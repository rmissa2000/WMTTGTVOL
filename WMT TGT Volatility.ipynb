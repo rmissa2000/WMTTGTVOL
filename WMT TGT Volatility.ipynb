{
 "cells": [
  {
   "cell_type": "markdown",
   "id": "7a4a8d08",
   "metadata": {},
   "source": [
    "Basic Financial Formulas w/ Walmart (WMT) & Target (TGT)"
   ]
  },
  {
   "cell_type": "code",
   "execution_count": 1,
   "id": "4715afde",
   "metadata": {},
   "outputs": [],
   "source": [
    "from pandas_datareader import data, wb\n",
    "import pandas as pd\n",
    "import numpy as np\n",
    "import datetime\n",
    "import matplotlib.pyplot as plt\n",
    "%matplotlib inline"
   ]
  },
  {
   "cell_type": "code",
   "execution_count": 3,
   "id": "5ab34c3d",
   "metadata": {},
   "outputs": [],
   "source": [
    "# need to specify the timeframe for analysis\n",
    "start = datetime.datetime(2021, 1, 1)\n",
    "end = datetime.datetime(2021, 12, 31)"
   ]
  },
  {
   "cell_type": "code",
   "execution_count": 4,
   "id": "55da5a92",
   "metadata": {},
   "outputs": [],
   "source": [
    "# load walmart and target data for the timeframe\n",
    "WMT = data.DataReader(\"WMT\", 'yahoo', start, end)\n",
    "TGT = data.DataReader(\"TGT\", 'yahoo', start, end)"
   ]
  },
  {
   "cell_type": "code",
   "execution_count": 6,
   "id": "d2cf77f3",
   "metadata": {},
   "outputs": [],
   "source": [
    "# % change  \n",
    "WMT['%-chg'] = WMT['Close'].pct_change()\n",
    "TGT['%-chg'] = TGT['Close'].pct_change()"
   ]
  },
  {
   "cell_type": "code",
   "execution_count": 9,
   "id": "a9529167",
   "metadata": {},
   "outputs": [],
   "source": [
    "# log returns\n",
    "WMT['Log returns'] = np.log(WMT['Close']/WMT['Close'].shift())\n",
    "TGT['Log returns'] = np.log(TGT['Close']/TGT['Close'].shift())"
   ]
  },
  {
   "cell_type": "code",
   "execution_count": 11,
   "id": "7895f3c8",
   "metadata": {},
   "outputs": [
    {
     "data": {
      "text/html": [
       "<div>\n",
       "<style scoped>\n",
       "    .dataframe tbody tr th:only-of-type {\n",
       "        vertical-align: middle;\n",
       "    }\n",
       "\n",
       "    .dataframe tbody tr th {\n",
       "        vertical-align: top;\n",
       "    }\n",
       "\n",
       "    .dataframe thead th {\n",
       "        text-align: right;\n",
       "    }\n",
       "</style>\n",
       "<table border=\"1\" class=\"dataframe\">\n",
       "  <thead>\n",
       "    <tr style=\"text-align: right;\">\n",
       "      <th></th>\n",
       "      <th>High</th>\n",
       "      <th>Low</th>\n",
       "      <th>Open</th>\n",
       "      <th>Close</th>\n",
       "      <th>Volume</th>\n",
       "      <th>Adj Close</th>\n",
       "      <th>%-chg</th>\n",
       "      <th>Log returns</th>\n",
       "    </tr>\n",
       "    <tr>\n",
       "      <th>Date</th>\n",
       "      <th></th>\n",
       "      <th></th>\n",
       "      <th></th>\n",
       "      <th></th>\n",
       "      <th></th>\n",
       "      <th></th>\n",
       "      <th></th>\n",
       "      <th></th>\n",
       "    </tr>\n",
       "  </thead>\n",
       "  <tbody>\n",
       "    <tr>\n",
       "      <th>2021-01-04</th>\n",
       "      <td>146.889999</td>\n",
       "      <td>144.279999</td>\n",
       "      <td>144.300003</td>\n",
       "      <td>146.529999</td>\n",
       "      <td>10727400.0</td>\n",
       "      <td>144.236282</td>\n",
       "      <td>NaN</td>\n",
       "      <td>NaN</td>\n",
       "    </tr>\n",
       "    <tr>\n",
       "      <th>2021-01-05</th>\n",
       "      <td>147.070007</td>\n",
       "      <td>144.490005</td>\n",
       "      <td>146.600006</td>\n",
       "      <td>145.750000</td>\n",
       "      <td>8832700.0</td>\n",
       "      <td>143.468491</td>\n",
       "      <td>-0.005323</td>\n",
       "      <td>-0.005337</td>\n",
       "    </tr>\n",
       "    <tr>\n",
       "      <th>2021-01-06</th>\n",
       "      <td>148.100006</td>\n",
       "      <td>145.009995</td>\n",
       "      <td>145.089996</td>\n",
       "      <td>146.660004</td>\n",
       "      <td>7306300.0</td>\n",
       "      <td>144.364258</td>\n",
       "      <td>0.006244</td>\n",
       "      <td>0.006224</td>\n",
       "    </tr>\n",
       "    <tr>\n",
       "      <th>2021-01-07</th>\n",
       "      <td>147.759995</td>\n",
       "      <td>146.039993</td>\n",
       "      <td>147.619995</td>\n",
       "      <td>146.649994</td>\n",
       "      <td>6846000.0</td>\n",
       "      <td>144.354401</td>\n",
       "      <td>-0.000068</td>\n",
       "      <td>-0.000068</td>\n",
       "    </tr>\n",
       "    <tr>\n",
       "      <th>2021-01-08</th>\n",
       "      <td>147.000000</td>\n",
       "      <td>145.809998</td>\n",
       "      <td>146.880005</td>\n",
       "      <td>146.630005</td>\n",
       "      <td>8159400.0</td>\n",
       "      <td>144.334732</td>\n",
       "      <td>-0.000136</td>\n",
       "      <td>-0.000136</td>\n",
       "    </tr>\n",
       "  </tbody>\n",
       "</table>\n",
       "</div>"
      ],
      "text/plain": [
       "                  High         Low        Open       Close      Volume  \\\n",
       "Date                                                                     \n",
       "2021-01-04  146.889999  144.279999  144.300003  146.529999  10727400.0   \n",
       "2021-01-05  147.070007  144.490005  146.600006  145.750000   8832700.0   \n",
       "2021-01-06  148.100006  145.009995  145.089996  146.660004   7306300.0   \n",
       "2021-01-07  147.759995  146.039993  147.619995  146.649994   6846000.0   \n",
       "2021-01-08  147.000000  145.809998  146.880005  146.630005   8159400.0   \n",
       "\n",
       "             Adj Close     %-chg  Log returns  \n",
       "Date                                           \n",
       "2021-01-04  144.236282       NaN          NaN  \n",
       "2021-01-05  143.468491 -0.005323    -0.005337  \n",
       "2021-01-06  144.364258  0.006244     0.006224  \n",
       "2021-01-07  144.354401 -0.000068    -0.000068  \n",
       "2021-01-08  144.334732 -0.000136    -0.000136  "
      ]
     },
     "execution_count": 11,
     "metadata": {},
     "output_type": "execute_result"
    }
   ],
   "source": [
    "WMT.head()"
   ]
  },
  {
   "cell_type": "code",
   "execution_count": 13,
   "id": "72c4f117",
   "metadata": {},
   "outputs": [
    {
     "data": {
      "text/html": [
       "<div>\n",
       "<style scoped>\n",
       "    .dataframe tbody tr th:only-of-type {\n",
       "        vertical-align: middle;\n",
       "    }\n",
       "\n",
       "    .dataframe tbody tr th {\n",
       "        vertical-align: top;\n",
       "    }\n",
       "\n",
       "    .dataframe thead th {\n",
       "        text-align: right;\n",
       "    }\n",
       "</style>\n",
       "<table border=\"1\" class=\"dataframe\">\n",
       "  <thead>\n",
       "    <tr style=\"text-align: right;\">\n",
       "      <th></th>\n",
       "      <th>High</th>\n",
       "      <th>Low</th>\n",
       "      <th>Open</th>\n",
       "      <th>Close</th>\n",
       "      <th>Volume</th>\n",
       "      <th>Adj Close</th>\n",
       "      <th>%-chg</th>\n",
       "      <th>Log returns</th>\n",
       "    </tr>\n",
       "    <tr>\n",
       "      <th>Date</th>\n",
       "      <th></th>\n",
       "      <th></th>\n",
       "      <th></th>\n",
       "      <th></th>\n",
       "      <th></th>\n",
       "      <th></th>\n",
       "      <th></th>\n",
       "      <th></th>\n",
       "    </tr>\n",
       "  </thead>\n",
       "  <tbody>\n",
       "    <tr>\n",
       "      <th>2021-01-04</th>\n",
       "      <td>178.089996</td>\n",
       "      <td>174.119995</td>\n",
       "      <td>176.509995</td>\n",
       "      <td>177.630005</td>\n",
       "      <td>3463100.0</td>\n",
       "      <td>174.467789</td>\n",
       "      <td>NaN</td>\n",
       "      <td>NaN</td>\n",
       "    </tr>\n",
       "    <tr>\n",
       "      <th>2021-01-05</th>\n",
       "      <td>181.970001</td>\n",
       "      <td>176.429993</td>\n",
       "      <td>176.800003</td>\n",
       "      <td>180.369995</td>\n",
       "      <td>4843300.0</td>\n",
       "      <td>177.159027</td>\n",
       "      <td>0.015425</td>\n",
       "      <td>0.015308</td>\n",
       "    </tr>\n",
       "    <tr>\n",
       "      <th>2021-01-06</th>\n",
       "      <td>189.470001</td>\n",
       "      <td>180.110001</td>\n",
       "      <td>180.330002</td>\n",
       "      <td>188.919998</td>\n",
       "      <td>5610100.0</td>\n",
       "      <td>185.556778</td>\n",
       "      <td>0.047403</td>\n",
       "      <td>0.046313</td>\n",
       "    </tr>\n",
       "    <tr>\n",
       "      <th>2021-01-07</th>\n",
       "      <td>192.350006</td>\n",
       "      <td>189.169998</td>\n",
       "      <td>189.210007</td>\n",
       "      <td>191.100006</td>\n",
       "      <td>4226700.0</td>\n",
       "      <td>187.697998</td>\n",
       "      <td>0.011539</td>\n",
       "      <td>0.011473</td>\n",
       "    </tr>\n",
       "    <tr>\n",
       "      <th>2021-01-08</th>\n",
       "      <td>193.880005</td>\n",
       "      <td>190.809998</td>\n",
       "      <td>191.580002</td>\n",
       "      <td>193.600006</td>\n",
       "      <td>3321500.0</td>\n",
       "      <td>190.153503</td>\n",
       "      <td>0.013082</td>\n",
       "      <td>0.012997</td>\n",
       "    </tr>\n",
       "  </tbody>\n",
       "</table>\n",
       "</div>"
      ],
      "text/plain": [
       "                  High         Low        Open       Close     Volume  \\\n",
       "Date                                                                    \n",
       "2021-01-04  178.089996  174.119995  176.509995  177.630005  3463100.0   \n",
       "2021-01-05  181.970001  176.429993  176.800003  180.369995  4843300.0   \n",
       "2021-01-06  189.470001  180.110001  180.330002  188.919998  5610100.0   \n",
       "2021-01-07  192.350006  189.169998  189.210007  191.100006  4226700.0   \n",
       "2021-01-08  193.880005  190.809998  191.580002  193.600006  3321500.0   \n",
       "\n",
       "             Adj Close     %-chg  Log returns  \n",
       "Date                                           \n",
       "2021-01-04  174.467789       NaN          NaN  \n",
       "2021-01-05  177.159027  0.015425     0.015308  \n",
       "2021-01-06  185.556778  0.047403     0.046313  \n",
       "2021-01-07  187.697998  0.011539     0.011473  \n",
       "2021-01-08  190.153503  0.013082     0.012997  "
      ]
     },
     "execution_count": 13,
     "metadata": {},
     "output_type": "execute_result"
    }
   ],
   "source": [
    "TGT.head()"
   ]
  },
  {
   "cell_type": "code",
   "execution_count": 14,
   "id": "7812d0df",
   "metadata": {},
   "outputs": [
    {
     "data": {
      "image/png": "[encoded data removed]",
      "text/plain": [
       "<Figure size 864x432 with 2 Axes>"
      ]
     },
     "metadata": {
      "needs_background": "light"
     },
     "output_type": "display_data"
    }
   ],
   "source": [
    "# combined plot of volume for Walmart & Target\n",
    "fig, ax = plt.subplots(2)\n",
    "WMT['Volume'].loc['2021-01-01':].plot(ax=ax[0], title=\"WMT Volume 2021\", figsize=(12,6))\n",
    "TGT['Volume'].loc['2021-01-01':].plot(ax=ax[1], title=\"TGT Volume 2021\", figsize=(12,6))\n",
    "\n",
    "fig.tight_layout()"
   ]
  },
  {
   "cell_type": "code",
   "execution_count": 15,
   "id": "df15867e",
   "metadata": {},
   "outputs": [],
   "source": [
    "# both companies are on the same scale of 1e7. However, Walmart has more shares available. Both WMT & TGT sold off in the first quarter, presumably due to sales declines after the holidays. "
   ]
  },
  {
   "cell_type": "code",
   "execution_count": 16,
   "id": "dcec35c9",
   "metadata": {},
   "outputs": [
    {
     "data": {
      "image/png": "[encoded data removed]",
      "text/plain": [
       "<Figure size 864x288 with 2 Axes>"
      ]
     },
     "metadata": {
      "needs_background": "light"
     },
     "output_type": "display_data"
    }
   ],
   "source": [
    "fig, ax = plt.subplots(1,2)\n",
    "WMT['Log returns'].hist(ax=ax[0], bins=50, alpha=0.6, color='b', figsize=(12,4))\n",
    "ax[0].set_ylabel(\"Freq of log return\")\n",
    "ax[0].set_title(\"WMT Returns \")\n",
    "\n",
    "#  Returns\n",
    "TGT['Log returns'].hist(ax=ax[1], bins=50, alpha=0.6, color='b', figsize=(12,4))\n",
    "ax[1].set_ylabel(\"Freq of log return\")\n",
    "ax[1].set_title(\"TGT Returns\")\n",
    "\n",
    "fig.tight_layout()"
   ]
  },
  {
   "cell_type": "code",
   "execution_count": 17,
   "id": "4a122784",
   "metadata": {},
   "outputs": [],
   "source": [
    "# WMT seems to be skewed right, however, the mean for both companies are straddling zero. the value on WMT all by itself on the left is most likely an outlier, one or two days where the shares were bought up like hot cakes. "
   ]
  },
  {
   "cell_type": "code",
   "execution_count": 20,
   "id": "a6d30384",
   "metadata": {},
   "outputs": [
    {
     "data": {
      "text/plain": [
       "0.010566097093939207"
      ]
     },
     "execution_count": 20,
     "metadata": {},
     "output_type": "execute_result"
    }
   ],
   "source": [
    "WMT['Log returns'].std()"
   ]
  },
  {
   "cell_type": "code",
   "execution_count": 21,
   "id": "0f2b0e97",
   "metadata": {},
   "outputs": [
    {
     "data": {
      "text/plain": [
       "0.014964775897820567"
      ]
     },
     "execution_count": 21,
     "metadata": {},
     "output_type": "execute_result"
    }
   ],
   "source": [
    "TGT['Log returns'].std()"
   ]
  },
  {
   "cell_type": "code",
   "execution_count": 22,
   "id": "521d3d51",
   "metadata": {},
   "outputs": [
    {
     "data": {
      "text/plain": [
       "0.16773159143475252"
      ]
     },
     "execution_count": 22,
     "metadata": {},
     "output_type": "execute_result"
    }
   ],
   "source": [
    "WMT_volatility = WMT['Log returns'].std()*np.sqrt(252)\n",
    "WMT_volatility"
   ]
  },
  {
   "cell_type": "code",
   "execution_count": 23,
   "id": "647f43d6",
   "metadata": {
    "scrolled": true
   },
   "outputs": [
    {
     "data": {
      "text/plain": [
       "0.2375584527086793"
      ]
     },
     "execution_count": 23,
     "metadata": {},
     "output_type": "execute_result"
    }
   ],
   "source": [
    "TGT_volatility = TGT['Log returns'].std()*np.sqrt(252)\n",
    "TGT_volatility"
   ]
  },
  {
   "cell_type": "code",
   "execution_count": null,
   "id": "147bd03b",
   "metadata": {},
   "outputs": [],
   "source": [
    "# Target is more volitile. Goodnight. "
   ]
  }
 ],
 "metadata": {
  "kernelspec": {
   "display_name": "Python 3 (ipykernel)",
   "language": "python",
   "name": "python3"
  },
  "language_info": {
   "codemirror_mode": {
    "name": "ipython",
    "version": 3
   },
   "file_extension": ".py",
   "mimetype": "text/x-python",
   "name": "python",
   "nbconvert_exporter": "python",
   "pygments_lexer": "ipython3",
   "version": "3.9.7"
  }
 },
 "nbformat": 4,
 "nbformat_minor": 5
}
